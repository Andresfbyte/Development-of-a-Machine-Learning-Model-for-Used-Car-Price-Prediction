{
 "cells": [
  {
   "cell_type": "markdown",
   "metadata": {},
   "source": [
    "# Development of a Machine Learning Model for Used Car Price Prediction"
   ]
  },
  {
   "cell_type": "markdown",
   "metadata": {},
   "source": [
    "## Table of Contents\n",
    "1. [Introduction](#introduccion)\n",
    "2. [Objectives](#objectives)\n",
    "3. [Library Import](#library-import)\n",
    "4. [Data Analysis](#data-analysis)\n",
    "5. [Model Training](#model-training)\n",
    "   - [Hyperparameter Tuning](#hyperparameter-tuning)\n",
    "   - [Linear Regression](#linear-regression)\n",
    "   - [Decision Tree](#decision-tree)\n",
    "   - [Boosted Decision Tree (Gradient Boosting)](#boosted-decision-tree-gradient-boosting)\n",
    "   - [CatBoost](#catboost)\n",
    "6. [Conclusion](#conclusion)\n"
   ]
  },
  {
   "cell_type": "markdown",
   "metadata": {},
   "source": [
    "## Introduccion\n",
    "The goal of this project is to create a machine learning model that can forecast the market value of used cars, giving Rusty Bargain's app an effective tool. The study entails comparing several supervised learning methods as well as data discovery, preprocessing, and analysis of vehicle-related characteristics. Training duration, prediction speed, and prediction quality will be the main evaluation criteria. Root Mean Squared Error, or RMSE, will be the main assessment statistic."
   ]
  },
  {
   "cell_type": "markdown",
   "metadata": {},
   "source": [
    "## Objectives\n",
    "\n",
    "- __Preparing and Exploring Data__:\n",
    "\n",
    "Examine the dataset to find duplicates, missing values, and any mistakes.\n",
    "To ensure machine learning model compatibility, clean the data and convert numerical and categorical characteristics.\n",
    "\n",
    "- __Training and Comparing Models__:\n",
    "\n",
    "Use LightGBM, XGBoost, and CatBoost to implement and compare various regression techniques, such as gradient boosting models, random forest, and linear regression.\n",
    "Adjust the model's hyperparameters to enhance performance while assessing prediction accuracy and training time.\n",
    "\n",
    "- __Assessment and Selection of Models__:\n",
    "\n",
    "Use the RMSE statistic to assess models, paying particular attention to computational efficiency and prediction quality.\n",
    "Examine the outcomes to see which model best suits Rusty Bargain's needs."
   ]
  },
  {
   "cell_type": "markdown",
   "metadata": {},
   "source": [
    "## Library Import"
   ]
  },
  {
   "cell_type": "code",
   "execution_count": 18,
   "metadata": {},
   "outputs": [
    {
     "name": "stdout",
     "output_type": "stream",
     "text": [
      "Requirement already satisfied: numpy in c:\\users\\felip\\anaconda3\\envs\\entorno\\lib\\site-packages (1.26.4)\n",
      "Collecting numpy\n",
      "  Downloading numpy-2.2.2-cp312-cp312-win_amd64.whl.metadata (60 kB)\n",
      "     ---------------------------------------- 0.0/60.8 kB ? eta -:--:--\n",
      "     ------ --------------------------------- 10.2/60.8 kB ? eta -:--:--\n",
      "     ------ --------------------------------- 10.2/60.8 kB ? eta -:--:--\n",
      "     ------------------- ------------------ 30.7/60.8 kB 217.9 kB/s eta 0:00:01\n",
      "     ------------------- ------------------ 30.7/60.8 kB 217.9 kB/s eta 0:00:01\n",
      "     -------------------------------------- 60.8/60.8 kB 231.1 kB/s eta 0:00:00\n",
      "Downloading numpy-2.2.2-cp312-cp312-win_amd64.whl (12.6 MB)\n",
      "   ---------------------------------------- 0.0/12.6 MB ? eta -:--:--\n",
      "   ---------------------------------------- 0.0/12.6 MB 991.0 kB/s eta 0:00:13\n",
      "    --------------------------------------- 0.2/12.6 MB 2.9 MB/s eta 0:00:05\n",
      "    --------------------------------------- 0.2/12.6 MB 2.9 MB/s eta 0:00:05\n",
      "   - -------------------------------------- 0.5/12.6 MB 3.0 MB/s eta 0:00:04\n",
      "   -- ------------------------------------- 0.7/12.6 MB 3.1 MB/s eta 0:00:04\n",
      "   -- ------------------------------------- 0.8/12.6 MB 3.3 MB/s eta 0:00:04\n",
      "   -- ------------------------------------- 0.9/12.6 MB 3.3 MB/s eta 0:00:04\n",
      "   -- ------------------------------------- 0.9/12.6 MB 3.3 MB/s eta 0:00:04\n",
      "   --- ------------------------------------ 1.2/12.6 MB 3.0 MB/s eta 0:00:04\n",
      "   --- ------------------------------------ 1.2/12.6 MB 3.0 MB/s eta 0:00:04\n",
      "   ---- ----------------------------------- 1.4/12.6 MB 2.9 MB/s eta 0:00:04\n",
      "   ---- ----------------------------------- 1.4/12.6 MB 2.9 MB/s eta 0:00:04\n",
      "   ----- ---------------------------------- 1.6/12.6 MB 2.8 MB/s eta 0:00:04\n",
      "   ----- ---------------------------------- 1.8/12.6 MB 2.9 MB/s eta 0:00:04\n",
      "   ------ --------------------------------- 1.9/12.6 MB 2.9 MB/s eta 0:00:04\n",
      "   ------ --------------------------------- 1.9/12.6 MB 2.9 MB/s eta 0:00:04\n",
      "   ------ --------------------------------- 2.0/12.6 MB 2.6 MB/s eta 0:00:05\n",
      "   ------ --------------------------------- 2.1/12.6 MB 2.6 MB/s eta 0:00:04\n",
      "   ------ --------------------------------- 2.2/12.6 MB 2.6 MB/s eta 0:00:05\n",
      "   ------- -------------------------------- 2.3/12.6 MB 2.6 MB/s eta 0:00:05\n",
      "   ------- -------------------------------- 2.4/12.6 MB 2.6 MB/s eta 0:00:04\n",
      "   -------- ------------------------------- 2.5/12.6 MB 2.5 MB/s eta 0:00:04\n",
      "   -------- ------------------------------- 2.7/12.6 MB 2.6 MB/s eta 0:00:04\n",
      "   --------- ------------------------------ 2.8/12.6 MB 2.6 MB/s eta 0:00:04\n",
      "   --------- ------------------------------ 3.0/12.6 MB 2.6 MB/s eta 0:00:04\n",
      "   ---------- ----------------------------- 3.2/12.6 MB 2.7 MB/s eta 0:00:04\n",
      "   ---------- ----------------------------- 3.3/12.6 MB 2.7 MB/s eta 0:00:04\n",
      "   ----------- ---------------------------- 3.5/12.6 MB 2.7 MB/s eta 0:00:04\n",
      "   ----------- ---------------------------- 3.6/12.6 MB 2.7 MB/s eta 0:00:04\n",
      "   ----------- ---------------------------- 3.7/12.6 MB 2.7 MB/s eta 0:00:04\n",
      "   ------------ --------------------------- 3.9/12.6 MB 2.7 MB/s eta 0:00:04\n",
      "   ------------ --------------------------- 4.0/12.6 MB 2.7 MB/s eta 0:00:04\n",
      "   ------------ --------------------------- 4.1/12.6 MB 2.7 MB/s eta 0:00:04\n",
      "   ------------- -------------------------- 4.2/12.6 MB 2.7 MB/s eta 0:00:04\n",
      "   ------------- -------------------------- 4.3/12.6 MB 2.7 MB/s eta 0:00:04\n",
      "   -------------- ------------------------- 4.5/12.6 MB 2.7 MB/s eta 0:00:04\n",
      "   -------------- ------------------------- 4.6/12.6 MB 2.7 MB/s eta 0:00:03\n",
      "   --------------- ------------------------ 4.8/12.6 MB 2.7 MB/s eta 0:00:03\n",
      "   --------------- ------------------------ 4.9/12.6 MB 2.7 MB/s eta 0:00:03\n",
      "   ---------------- ----------------------- 5.1/12.6 MB 2.8 MB/s eta 0:00:03\n",
      "   ---------------- ----------------------- 5.3/12.6 MB 2.8 MB/s eta 0:00:03\n",
      "   ----------------- ---------------------- 5.4/12.6 MB 2.8 MB/s eta 0:00:03\n",
      "   ----------------- ---------------------- 5.6/12.6 MB 2.8 MB/s eta 0:00:03\n",
      "   ------------------ --------------------- 5.7/12.6 MB 2.8 MB/s eta 0:00:03\n",
      "   ------------------ --------------------- 5.9/12.6 MB 2.8 MB/s eta 0:00:03\n",
      "   ------------------- -------------------- 6.0/12.6 MB 2.8 MB/s eta 0:00:03\n",
      "   ------------------- -------------------- 6.2/12.6 MB 2.8 MB/s eta 0:00:03\n",
      "   -------------------- ------------------- 6.3/12.6 MB 2.8 MB/s eta 0:00:03\n",
      "   -------------------- ------------------- 6.5/12.6 MB 2.9 MB/s eta 0:00:03\n",
      "   --------------------- ------------------ 6.6/12.6 MB 2.9 MB/s eta 0:00:03\n",
      "   --------------------- ------------------ 6.8/12.6 MB 2.9 MB/s eta 0:00:03\n",
      "   --------------------- ------------------ 6.9/12.6 MB 2.9 MB/s eta 0:00:02\n",
      "   ---------------------- ----------------- 7.1/12.6 MB 2.9 MB/s eta 0:00:02\n",
      "   ---------------------- ----------------- 7.2/12.6 MB 2.9 MB/s eta 0:00:02\n",
      "   ----------------------- ---------------- 7.4/12.6 MB 2.9 MB/s eta 0:00:02\n",
      "   ----------------------- ---------------- 7.5/12.6 MB 2.9 MB/s eta 0:00:02\n",
      "   ------------------------ --------------- 7.7/12.6 MB 2.9 MB/s eta 0:00:02\n",
      "   ------------------------ --------------- 7.8/12.6 MB 2.9 MB/s eta 0:00:02\n",
      "   ------------------------- -------------- 8.0/12.6 MB 2.9 MB/s eta 0:00:02\n",
      "   ------------------------- -------------- 8.1/12.6 MB 2.9 MB/s eta 0:00:02\n",
      "   -------------------------- ------------- 8.3/12.6 MB 2.9 MB/s eta 0:00:02\n",
      "   -------------------------- ------------- 8.4/12.6 MB 2.9 MB/s eta 0:00:02\n",
      "   --------------------------- ------------ 8.5/12.6 MB 2.9 MB/s eta 0:00:02\n",
      "   --------------------------- ------------ 8.6/12.6 MB 2.9 MB/s eta 0:00:02\n",
      "   --------------------------- ------------ 8.7/12.6 MB 2.9 MB/s eta 0:00:02\n",
      "   ---------------------------- ----------- 8.9/12.6 MB 2.9 MB/s eta 0:00:02\n",
      "   ---------------------------- ----------- 9.0/12.6 MB 2.9 MB/s eta 0:00:02\n",
      "   ----------------------------- ---------- 9.2/12.6 MB 2.9 MB/s eta 0:00:02\n",
      "   ----------------------------- ---------- 9.3/12.6 MB 2.9 MB/s eta 0:00:02\n",
      "   ------------------------------ --------- 9.5/12.6 MB 2.9 MB/s eta 0:00:02\n",
      "   ------------------------------ --------- 9.6/12.6 MB 2.9 MB/s eta 0:00:02\n",
      "   ------------------------------ --------- 9.8/12.6 MB 2.9 MB/s eta 0:00:01\n",
      "   ------------------------------- -------- 9.9/12.6 MB 2.9 MB/s eta 0:00:01\n",
      "   ------------------------------- -------- 10.0/12.6 MB 2.9 MB/s eta 0:00:01\n",
      "   -------------------------------- ------- 10.1/12.6 MB 2.9 MB/s eta 0:00:01\n",
      "   -------------------------------- ------- 10.2/12.6 MB 2.9 MB/s eta 0:00:01\n",
      "   -------------------------------- ------- 10.2/12.6 MB 2.9 MB/s eta 0:00:01\n",
      "   -------------------------------- ------- 10.2/12.6 MB 2.9 MB/s eta 0:00:01\n",
      "   -------------------------------- ------- 10.3/12.6 MB 2.8 MB/s eta 0:00:01\n",
      "   -------------------------------- ------- 10.4/12.6 MB 2.8 MB/s eta 0:00:01\n",
      "   --------------------------------- ------ 10.4/12.6 MB 2.8 MB/s eta 0:00:01\n",
      "   --------------------------------- ------ 10.4/12.6 MB 2.8 MB/s eta 0:00:01\n",
      "   --------------------------------- ------ 10.5/12.6 MB 2.8 MB/s eta 0:00:01\n",
      "   --------------------------------- ------ 10.5/12.6 MB 2.8 MB/s eta 0:00:01\n",
      "   --------------------------------- ------ 10.5/12.6 MB 2.8 MB/s eta 0:00:01\n",
      "   --------------------------------- ------ 10.5/12.6 MB 2.8 MB/s eta 0:00:01\n",
      "   --------------------------------- ------ 10.6/12.6 MB 2.7 MB/s eta 0:00:01\n",
      "   --------------------------------- ------ 10.6/12.6 MB 2.7 MB/s eta 0:00:01\n",
      "   --------------------------------- ------ 10.6/12.6 MB 2.6 MB/s eta 0:00:01\n",
      "   --------------------------------- ------ 10.7/12.6 MB 2.6 MB/s eta 0:00:01\n",
      "   --------------------------------- ------ 10.7/12.6 MB 2.5 MB/s eta 0:00:01\n",
      "   ---------------------------------- ----- 10.8/12.6 MB 2.5 MB/s eta 0:00:01\n",
      "   ---------------------------------- ----- 11.0/12.6 MB 2.5 MB/s eta 0:00:01\n",
      "   ----------------------------------- ---- 11.1/12.6 MB 2.6 MB/s eta 0:00:01\n",
      "   ----------------------------------- ---- 11.3/12.6 MB 2.5 MB/s eta 0:00:01\n",
      "   ------------------------------------ --- 11.4/12.6 MB 2.6 MB/s eta 0:00:01\n",
      "   ------------------------------------ --- 11.6/12.6 MB 2.5 MB/s eta 0:00:01\n",
      "   ------------------------------------- -- 11.8/12.6 MB 2.6 MB/s eta 0:00:01\n",
      "   ------------------------------------- -- 11.9/12.6 MB 2.6 MB/s eta 0:00:01\n",
      "   -------------------------------------- - 12.1/12.6 MB 2.6 MB/s eta 0:00:01\n",
      "   -------------------------------------- - 12.2/12.6 MB 2.6 MB/s eta 0:00:01\n",
      "   ---------------------------------------  12.4/12.6 MB 2.6 MB/s eta 0:00:01\n",
      "   ---------------------------------------  12.5/12.6 MB 2.7 MB/s eta 0:00:01\n",
      "   ---------------------------------------  12.6/12.6 MB 2.6 MB/s eta 0:00:01\n",
      "   ---------------------------------------- 12.6/12.6 MB 2.6 MB/s eta 0:00:00\n",
      "Installing collected packages: numpy\n",
      "  Attempting uninstall: numpy\n",
      "    Found existing installation: numpy 1.26.4\n",
      "    Uninstalling numpy-1.26.4:\n",
      "      Successfully uninstalled numpy-1.26.4\n",
      "Successfully installed numpy-2.2.2\n",
      "Note: you may need to restart the kernel to use updated packages.\n"
     ]
    },
    {
     "name": "stderr",
     "output_type": "stream",
     "text": [
      "ERROR: pip's dependency resolver does not currently take into account all the packages that are installed. This behaviour is the source of the following dependency conflicts.\n",
      "catboost 1.2.7 requires numpy<2.0,>=1.16.0, but you have numpy 2.2.2 which is incompatible.\n"
     ]
    }
   ],
   "source": [
    "pip install numpy --upgrade"
   ]
  },
  {
   "cell_type": "code",
   "execution_count": 23,
   "metadata": {},
   "outputs": [
    {
     "name": "stdout",
     "output_type": "stream",
     "text": [
      "Requirement already satisfied: catboost in c:\\users\\felip\\anaconda3\\envs\\entorno\\lib\\site-packages (1.2.7)\n",
      "Requirement already satisfied: graphviz in c:\\users\\felip\\anaconda3\\envs\\entorno\\lib\\site-packages (from catboost) (0.20.3)\n",
      "Requirement already satisfied: matplotlib in c:\\users\\felip\\anaconda3\\envs\\entorno\\lib\\site-packages (from catboost) (3.10.0)\n",
      "Requirement already satisfied: numpy<2.0,>=1.16.0 in c:\\users\\felip\\anaconda3\\envs\\entorno\\lib\\site-packages (from catboost) (1.26.4)\n",
      "Requirement already satisfied: pandas>=0.24 in c:\\users\\felip\\anaconda3\\envs\\entorno\\lib\\site-packages (from catboost) (2.2.2)\n",
      "Requirement already satisfied: scipy in c:\\users\\felip\\anaconda3\\envs\\entorno\\lib\\site-packages (from catboost) (1.14.1)\n",
      "Requirement already satisfied: plotly in c:\\users\\felip\\anaconda3\\envs\\entorno\\lib\\site-packages (from catboost) (5.22.0)\n",
      "Requirement already satisfied: six in c:\\users\\felip\\anaconda3\\envs\\entorno\\lib\\site-packages (from catboost) (1.16.0)\n",
      "Requirement already satisfied: python-dateutil>=2.8.2 in c:\\users\\felip\\anaconda3\\envs\\entorno\\lib\\site-packages (from pandas>=0.24->catboost) (2.9.0.post0)\n",
      "Requirement already satisfied: pytz>=2020.1 in c:\\users\\felip\\anaconda3\\envs\\entorno\\lib\\site-packages (from pandas>=0.24->catboost) (2024.1)\n",
      "Requirement already satisfied: tzdata>=2022.7 in c:\\users\\felip\\anaconda3\\envs\\entorno\\lib\\site-packages (from pandas>=0.24->catboost) (2024.1)\n",
      "Requirement already satisfied: contourpy>=1.0.1 in c:\\users\\felip\\anaconda3\\envs\\entorno\\lib\\site-packages (from matplotlib->catboost) (1.3.1)\n",
      "Requirement already satisfied: cycler>=0.10 in c:\\users\\felip\\anaconda3\\envs\\entorno\\lib\\site-packages (from matplotlib->catboost) (0.12.1)\n",
      "Requirement already satisfied: fonttools>=4.22.0 in c:\\users\\felip\\anaconda3\\envs\\entorno\\lib\\site-packages (from matplotlib->catboost) (4.55.3)\n",
      "Requirement already satisfied: kiwisolver>=1.3.1 in c:\\users\\felip\\anaconda3\\envs\\entorno\\lib\\site-packages (from matplotlib->catboost) (1.4.7)\n",
      "Requirement already satisfied: packaging>=20.0 in c:\\users\\felip\\appdata\\roaming\\python\\python312\\site-packages (from matplotlib->catboost) (24.1)\n",
      "Requirement already satisfied: pillow>=8 in c:\\users\\felip\\anaconda3\\envs\\entorno\\lib\\site-packages (from matplotlib->catboost) (10.4.0)\n",
      "Requirement already satisfied: pyparsing>=2.3.1 in c:\\users\\felip\\anaconda3\\envs\\entorno\\lib\\site-packages (from matplotlib->catboost) (3.2.0)\n",
      "Requirement already satisfied: tenacity>=6.2.0 in c:\\users\\felip\\anaconda3\\envs\\entorno\\lib\\site-packages (from plotly->catboost) (8.2.2)\n",
      "Note: you may need to restart the kernel to use updated packages.\n"
     ]
    }
   ],
   "source": [
    "pip install catboost"
   ]
  },
  {
   "cell_type": "code",
   "execution_count": 1,
   "metadata": {},
   "outputs": [],
   "source": [
    "# Import necessary libraries\n",
    "import time\n",
    "import numpy as np\n",
    "import pandas as pd\n",
    "import matplotlib.pyplot as plt\n",
    "\n",
    "# Scikit-learn utilities\n",
    "from sklearn.utils import resample\n",
    "from sklearn.preprocessing import StandardScaler, OneHotEncoder\n",
    "from sklearn.compose import ColumnTransformer\n",
    "from sklearn.model_selection import train_test_split, GridSearchCV\n",
    "from sklearn.feature_selection import RFE\n",
    "from sklearn.metrics import r2_score, mean_squared_error\n",
    "\n",
    "# Regression models\n",
    "from sklearn.linear_model import LinearRegression\n",
    "from sklearn.tree import DecisionTreeRegressor\n",
    "from sklearn.ensemble import RandomForestRegressor, GradientBoostingRegressor\n",
    "\n",
    "from catboost import CatBoostRegressor\n"
   ]
  },
  {
   "cell_type": "code",
   "execution_count": 4,
   "metadata": {},
   "outputs": [],
   "source": [
    "# Load the dataset\n",
    "df = pd.read_csv('car_data.csv')"
   ]
  },
  {
   "cell_type": "code",
   "execution_count": 5,
   "metadata": {},
   "outputs": [],
   "source": [
    "# Rename the dataset columns\n",
    "df = df.rename(columns={\n",
    "    'DateCrawled': 'date_crawled',\n",
    "    'Price': 'price',\n",
    "    'VehicleType': 'vehicle_type',\n",
    "    'RegistrationYear': 'registration_year',\n",
    "    'Gearbox': 'gearbox',\n",
    "    'Power': 'power',\n",
    "    'Model': 'model',\n",
    "    'Mileage': 'mileage',\n",
    "    'RegistrationMonth': 'registration_month',\n",
    "    'FuelType': 'fuel_type',\n",
    "    'Brand': 'brand',\n",
    "    'NotRepaired': 'not_repaired',\n",
    "    'DateCreated': 'date_created',\n",
    "    'NumberOfPictures': 'number_of_pictures',\n",
    "    'PostalCode': 'postcode',\n",
    "    'LastSeen': 'lastseen'\n",
    "})"
   ]
  },
  {
   "cell_type": "code",
   "execution_count": 6,
   "metadata": {},
   "outputs": [
    {
     "data": {
      "text/html": [
       "<div>\n",
       "<style scoped>\n",
       "    .dataframe tbody tr th:only-of-type {\n",
       "        vertical-align: middle;\n",
       "    }\n",
       "\n",
       "    .dataframe tbody tr th {\n",
       "        vertical-align: top;\n",
       "    }\n",
       "\n",
       "    .dataframe thead th {\n",
       "        text-align: right;\n",
       "    }\n",
       "</style>\n",
       "<table border=\"1\" class=\"dataframe\">\n",
       "  <thead>\n",
       "    <tr style=\"text-align: right;\">\n",
       "      <th></th>\n",
       "      <th>date_crawled</th>\n",
       "      <th>price</th>\n",
       "      <th>vehicle_type</th>\n",
       "      <th>registration_year</th>\n",
       "      <th>gearbox</th>\n",
       "      <th>power</th>\n",
       "      <th>model</th>\n",
       "      <th>mileage</th>\n",
       "      <th>registration_month</th>\n",
       "      <th>fuel_type</th>\n",
       "      <th>brand</th>\n",
       "      <th>not_repaired</th>\n",
       "      <th>date_created</th>\n",
       "      <th>number_of_pictures</th>\n",
       "      <th>postcode</th>\n",
       "      <th>lastseen</th>\n",
       "    </tr>\n",
       "  </thead>\n",
       "  <tbody>\n",
       "    <tr>\n",
       "      <th>0</th>\n",
       "      <td>24/03/2016 11:52</td>\n",
       "      <td>480</td>\n",
       "      <td>NaN</td>\n",
       "      <td>1993</td>\n",
       "      <td>manual</td>\n",
       "      <td>0</td>\n",
       "      <td>golf</td>\n",
       "      <td>150000</td>\n",
       "      <td>0</td>\n",
       "      <td>petrol</td>\n",
       "      <td>volkswagen</td>\n",
       "      <td>NaN</td>\n",
       "      <td>24/03/2016 00:00</td>\n",
       "      <td>0</td>\n",
       "      <td>70435</td>\n",
       "      <td>07/04/2016 03:16</td>\n",
       "    </tr>\n",
       "    <tr>\n",
       "      <th>1</th>\n",
       "      <td>24/03/2016 10:58</td>\n",
       "      <td>18300</td>\n",
       "      <td>coupe</td>\n",
       "      <td>2011</td>\n",
       "      <td>manual</td>\n",
       "      <td>190</td>\n",
       "      <td>NaN</td>\n",
       "      <td>125000</td>\n",
       "      <td>5</td>\n",
       "      <td>gasoline</td>\n",
       "      <td>audi</td>\n",
       "      <td>yes</td>\n",
       "      <td>24/03/2016 00:00</td>\n",
       "      <td>0</td>\n",
       "      <td>66954</td>\n",
       "      <td>07/04/2016 01:46</td>\n",
       "    </tr>\n",
       "    <tr>\n",
       "      <th>2</th>\n",
       "      <td>14/03/2016 12:52</td>\n",
       "      <td>9800</td>\n",
       "      <td>suv</td>\n",
       "      <td>2004</td>\n",
       "      <td>auto</td>\n",
       "      <td>163</td>\n",
       "      <td>grand</td>\n",
       "      <td>125000</td>\n",
       "      <td>8</td>\n",
       "      <td>gasoline</td>\n",
       "      <td>jeep</td>\n",
       "      <td>NaN</td>\n",
       "      <td>14/03/2016 00:00</td>\n",
       "      <td>0</td>\n",
       "      <td>90480</td>\n",
       "      <td>05/04/2016 12:47</td>\n",
       "    </tr>\n",
       "    <tr>\n",
       "      <th>3</th>\n",
       "      <td>17/03/2016 16:54</td>\n",
       "      <td>1500</td>\n",
       "      <td>small</td>\n",
       "      <td>2001</td>\n",
       "      <td>manual</td>\n",
       "      <td>75</td>\n",
       "      <td>golf</td>\n",
       "      <td>150000</td>\n",
       "      <td>6</td>\n",
       "      <td>petrol</td>\n",
       "      <td>volkswagen</td>\n",
       "      <td>no</td>\n",
       "      <td>17/03/2016 00:00</td>\n",
       "      <td>0</td>\n",
       "      <td>91074</td>\n",
       "      <td>17/03/2016 17:40</td>\n",
       "    </tr>\n",
       "    <tr>\n",
       "      <th>4</th>\n",
       "      <td>31/03/2016 17:25</td>\n",
       "      <td>3600</td>\n",
       "      <td>small</td>\n",
       "      <td>2008</td>\n",
       "      <td>manual</td>\n",
       "      <td>69</td>\n",
       "      <td>fabia</td>\n",
       "      <td>90000</td>\n",
       "      <td>7</td>\n",
       "      <td>gasoline</td>\n",
       "      <td>skoda</td>\n",
       "      <td>no</td>\n",
       "      <td>31/03/2016 00:00</td>\n",
       "      <td>0</td>\n",
       "      <td>60437</td>\n",
       "      <td>06/04/2016 10:17</td>\n",
       "    </tr>\n",
       "  </tbody>\n",
       "</table>\n",
       "</div>"
      ],
      "text/plain": [
       "       date_crawled  price vehicle_type  registration_year gearbox  power  \\\n",
       "0  24/03/2016 11:52    480          NaN               1993  manual      0   \n",
       "1  24/03/2016 10:58  18300        coupe               2011  manual    190   \n",
       "2  14/03/2016 12:52   9800          suv               2004    auto    163   \n",
       "3  17/03/2016 16:54   1500        small               2001  manual     75   \n",
       "4  31/03/2016 17:25   3600        small               2008  manual     69   \n",
       "\n",
       "   model  mileage  registration_month fuel_type       brand not_repaired  \\\n",
       "0   golf   150000                   0    petrol  volkswagen          NaN   \n",
       "1    NaN   125000                   5  gasoline        audi          yes   \n",
       "2  grand   125000                   8  gasoline        jeep          NaN   \n",
       "3   golf   150000                   6    petrol  volkswagen           no   \n",
       "4  fabia    90000                   7  gasoline       skoda           no   \n",
       "\n",
       "       date_created  number_of_pictures  postcode          lastseen  \n",
       "0  24/03/2016 00:00                   0     70435  07/04/2016 03:16  \n",
       "1  24/03/2016 00:00                   0     66954  07/04/2016 01:46  \n",
       "2  14/03/2016 00:00                   0     90480  05/04/2016 12:47  \n",
       "3  17/03/2016 00:00                   0     91074  17/03/2016 17:40  \n",
       "4  31/03/2016 00:00                   0     60437  06/04/2016 10:17  "
      ]
     },
     "execution_count": 6,
     "metadata": {},
     "output_type": "execute_result"
    }
   ],
   "source": [
    "df.head()"
   ]
  },
  {
   "cell_type": "markdown",
   "metadata": {},
   "source": [
    "## Data Analysis"
   ]
  },
  {
   "cell_type": "code",
   "execution_count": 7,
   "metadata": {},
   "outputs": [
    {
     "name": "stdout",
     "output_type": "stream",
     "text": [
      "<class 'pandas.core.frame.DataFrame'>\n",
      "RangeIndex: 354369 entries, 0 to 354368\n",
      "Data columns (total 16 columns):\n",
      " #   Column              Non-Null Count   Dtype \n",
      "---  ------              --------------   ----- \n",
      " 0   date_crawled        354369 non-null  object\n",
      " 1   price               354369 non-null  int64 \n",
      " 2   vehicle_type        316879 non-null  object\n",
      " 3   registration_year   354369 non-null  int64 \n",
      " 4   gearbox             334536 non-null  object\n",
      " 5   power               354369 non-null  int64 \n",
      " 6   model               334664 non-null  object\n",
      " 7   mileage             354369 non-null  int64 \n",
      " 8   registration_month  354369 non-null  int64 \n",
      " 9   fuel_type           321474 non-null  object\n",
      " 10  brand               354369 non-null  object\n",
      " 11  not_repaired        283215 non-null  object\n",
      " 12  date_created        354369 non-null  object\n",
      " 13  number_of_pictures  354369 non-null  int64 \n",
      " 14  postcode            354369 non-null  int64 \n",
      " 15  lastseen            354369 non-null  object\n",
      "dtypes: int64(7), object(9)\n",
      "memory usage: 43.3+ MB\n",
      "==================================================\n"
     ]
    },
    {
     "data": {
      "text/html": [
       "<div>\n",
       "<style scoped>\n",
       "    .dataframe tbody tr th:only-of-type {\n",
       "        vertical-align: middle;\n",
       "    }\n",
       "\n",
       "    .dataframe tbody tr th {\n",
       "        vertical-align: top;\n",
       "    }\n",
       "\n",
       "    .dataframe thead th {\n",
       "        text-align: right;\n",
       "    }\n",
       "</style>\n",
       "<table border=\"1\" class=\"dataframe\">\n",
       "  <thead>\n",
       "    <tr style=\"text-align: right;\">\n",
       "      <th></th>\n",
       "      <th>price</th>\n",
       "      <th>registration_year</th>\n",
       "      <th>power</th>\n",
       "      <th>mileage</th>\n",
       "      <th>registration_month</th>\n",
       "      <th>number_of_pictures</th>\n",
       "      <th>postcode</th>\n",
       "    </tr>\n",
       "  </thead>\n",
       "  <tbody>\n",
       "    <tr>\n",
       "      <th>count</th>\n",
       "      <td>354369.000000</td>\n",
       "      <td>354369.000000</td>\n",
       "      <td>354369.000000</td>\n",
       "      <td>354369.000000</td>\n",
       "      <td>354369.000000</td>\n",
       "      <td>354369.0</td>\n",
       "      <td>354369.000000</td>\n",
       "    </tr>\n",
       "    <tr>\n",
       "      <th>mean</th>\n",
       "      <td>4416.656776</td>\n",
       "      <td>2004.234448</td>\n",
       "      <td>110.094337</td>\n",
       "      <td>128211.172535</td>\n",
       "      <td>5.714645</td>\n",
       "      <td>0.0</td>\n",
       "      <td>50508.689087</td>\n",
       "    </tr>\n",
       "    <tr>\n",
       "      <th>std</th>\n",
       "      <td>4514.158514</td>\n",
       "      <td>90.227958</td>\n",
       "      <td>189.850405</td>\n",
       "      <td>37905.341530</td>\n",
       "      <td>3.726421</td>\n",
       "      <td>0.0</td>\n",
       "      <td>25783.096248</td>\n",
       "    </tr>\n",
       "    <tr>\n",
       "      <th>min</th>\n",
       "      <td>0.000000</td>\n",
       "      <td>1000.000000</td>\n",
       "      <td>0.000000</td>\n",
       "      <td>5000.000000</td>\n",
       "      <td>0.000000</td>\n",
       "      <td>0.0</td>\n",
       "      <td>1067.000000</td>\n",
       "    </tr>\n",
       "    <tr>\n",
       "      <th>25%</th>\n",
       "      <td>1050.000000</td>\n",
       "      <td>1999.000000</td>\n",
       "      <td>69.000000</td>\n",
       "      <td>125000.000000</td>\n",
       "      <td>3.000000</td>\n",
       "      <td>0.0</td>\n",
       "      <td>30165.000000</td>\n",
       "    </tr>\n",
       "    <tr>\n",
       "      <th>50%</th>\n",
       "      <td>2700.000000</td>\n",
       "      <td>2003.000000</td>\n",
       "      <td>105.000000</td>\n",
       "      <td>150000.000000</td>\n",
       "      <td>6.000000</td>\n",
       "      <td>0.0</td>\n",
       "      <td>49413.000000</td>\n",
       "    </tr>\n",
       "    <tr>\n",
       "      <th>75%</th>\n",
       "      <td>6400.000000</td>\n",
       "      <td>2008.000000</td>\n",
       "      <td>143.000000</td>\n",
       "      <td>150000.000000</td>\n",
       "      <td>9.000000</td>\n",
       "      <td>0.0</td>\n",
       "      <td>71083.000000</td>\n",
       "    </tr>\n",
       "    <tr>\n",
       "      <th>max</th>\n",
       "      <td>20000.000000</td>\n",
       "      <td>9999.000000</td>\n",
       "      <td>20000.000000</td>\n",
       "      <td>150000.000000</td>\n",
       "      <td>12.000000</td>\n",
       "      <td>0.0</td>\n",
       "      <td>99998.000000</td>\n",
       "    </tr>\n",
       "  </tbody>\n",
       "</table>\n",
       "</div>"
      ],
      "text/plain": [
       "               price  registration_year          power        mileage  \\\n",
       "count  354369.000000      354369.000000  354369.000000  354369.000000   \n",
       "mean     4416.656776        2004.234448     110.094337  128211.172535   \n",
       "std      4514.158514          90.227958     189.850405   37905.341530   \n",
       "min         0.000000        1000.000000       0.000000    5000.000000   \n",
       "25%      1050.000000        1999.000000      69.000000  125000.000000   \n",
       "50%      2700.000000        2003.000000     105.000000  150000.000000   \n",
       "75%      6400.000000        2008.000000     143.000000  150000.000000   \n",
       "max     20000.000000        9999.000000   20000.000000  150000.000000   \n",
       "\n",
       "       registration_month  number_of_pictures       postcode  \n",
       "count       354369.000000            354369.0  354369.000000  \n",
       "mean             5.714645                 0.0   50508.689087  \n",
       "std              3.726421                 0.0   25783.096248  \n",
       "min              0.000000                 0.0    1067.000000  \n",
       "25%              3.000000                 0.0   30165.000000  \n",
       "50%              6.000000                 0.0   49413.000000  \n",
       "75%              9.000000                 0.0   71083.000000  \n",
       "max             12.000000                 0.0   99998.000000  "
      ]
     },
     "execution_count": 7,
     "metadata": {},
     "output_type": "execute_result"
    }
   ],
   "source": [
    "# Perform a preliminary analysis of the data\n",
    "df.info()\n",
    "print('=' * 50)\n",
    "df.describe()"
   ]
  },
  {
   "cell_type": "markdown",
   "metadata": {},
   "source": [
    "We can observe that the dataset contains null values, and the data types are correct and do not require modifications."
   ]
  },
  {
   "cell_type": "code",
   "execution_count": 8,
   "metadata": {},
   "outputs": [
    {
     "name": "stderr",
     "output_type": "stream",
     "text": [
      "C:\\Users\\Felip\\AppData\\Local\\Temp\\ipykernel_31940\\404620839.py:2: FutureWarning: A value is trying to be set on a copy of a DataFrame or Series through chained assignment using an inplace method.\n",
      "The behavior will change in pandas 3.0. This inplace method will never work because the intermediate object on which we are setting values always behaves as a copy.\n",
      "\n",
      "For example, when doing 'df[col].method(value, inplace=True)', try using 'df.method({col: value}, inplace=True)' or df[col] = df[col].method(value) instead, to perform the operation inplace on the original object.\n",
      "\n",
      "\n",
      "  df['gearbox'].fillna(df['gearbox'].mode()[0], inplace=True)\n",
      "C:\\Users\\Felip\\AppData\\Local\\Temp\\ipykernel_31940\\404620839.py:3: FutureWarning: A value is trying to be set on a copy of a DataFrame or Series through chained assignment using an inplace method.\n",
      "The behavior will change in pandas 3.0. This inplace method will never work because the intermediate object on which we are setting values always behaves as a copy.\n",
      "\n",
      "For example, when doing 'df[col].method(value, inplace=True)', try using 'df.method({col: value}, inplace=True)' or df[col] = df[col].method(value) instead, to perform the operation inplace on the original object.\n",
      "\n",
      "\n",
      "  df['vehicle_type'].fillna(df['vehicle_type'].mode()[0], inplace=True)\n",
      "C:\\Users\\Felip\\AppData\\Local\\Temp\\ipykernel_31940\\404620839.py:4: FutureWarning: A value is trying to be set on a copy of a DataFrame or Series through chained assignment using an inplace method.\n",
      "The behavior will change in pandas 3.0. This inplace method will never work because the intermediate object on which we are setting values always behaves as a copy.\n",
      "\n",
      "For example, when doing 'df[col].method(value, inplace=True)', try using 'df.method({col: value}, inplace=True)' or df[col] = df[col].method(value) instead, to perform the operation inplace on the original object.\n",
      "\n",
      "\n",
      "  df['model'].fillna(df['model'].mode()[0], inplace=True)\n",
      "C:\\Users\\Felip\\AppData\\Local\\Temp\\ipykernel_31940\\404620839.py:5: FutureWarning: A value is trying to be set on a copy of a DataFrame or Series through chained assignment using an inplace method.\n",
      "The behavior will change in pandas 3.0. This inplace method will never work because the intermediate object on which we are setting values always behaves as a copy.\n",
      "\n",
      "For example, when doing 'df[col].method(value, inplace=True)', try using 'df.method({col: value}, inplace=True)' or df[col] = df[col].method(value) instead, to perform the operation inplace on the original object.\n",
      "\n",
      "\n",
      "  df['fuel_type'].fillna(df['fuel_type'].mode()[0], inplace=True)\n",
      "C:\\Users\\Felip\\AppData\\Local\\Temp\\ipykernel_31940\\404620839.py:6: FutureWarning: A value is trying to be set on a copy of a DataFrame or Series through chained assignment using an inplace method.\n",
      "The behavior will change in pandas 3.0. This inplace method will never work because the intermediate object on which we are setting values always behaves as a copy.\n",
      "\n",
      "For example, when doing 'df[col].method(value, inplace=True)', try using 'df.method({col: value}, inplace=True)' or df[col] = df[col].method(value) instead, to perform the operation inplace on the original object.\n",
      "\n",
      "\n",
      "  df['not_repaired'].fillna(\"Unknown\", inplace=True)\n"
     ]
    },
    {
     "name": "stdout",
     "output_type": "stream",
     "text": [
      "Null values verification:\n",
      " date_crawled          0\n",
      "price                 0\n",
      "vehicle_type          0\n",
      "registration_year     0\n",
      "gearbox               0\n",
      "power                 0\n",
      "model                 0\n",
      "mileage               0\n",
      "registration_month    0\n",
      "fuel_type             0\n",
      "brand                 0\n",
      "not_repaired          0\n",
      "date_created          0\n",
      "number_of_pictures    0\n",
      "postcode              0\n",
      "lastseen              0\n",
      "dtype: int64\n",
      "=========================\n",
      "Total number of duplicate values = 0\n"
     ]
    }
   ],
   "source": [
    "# Fill null values in categorical columns\n",
    "df['gearbox'].fillna(df['gearbox'].mode()[0], inplace=True)\n",
    "df['vehicle_type'].fillna(df['vehicle_type'].mode()[0], inplace=True)\n",
    "df['model'].fillna(df['model'].mode()[0], inplace=True)\n",
    "df['fuel_type'].fillna(df['fuel_type'].mode()[0], inplace=True)\n",
    "df['not_repaired'].fillna(\"Unknown\", inplace=True)\n",
    "\n",
    "# Remove duplicate values\n",
    "df.drop_duplicates(inplace=True)\n",
    "\n",
    "# Verify null values\n",
    "print('Null values verification:\\n', df.isnull().sum())\n",
    "print('=' * 25)\n",
    "\n",
    "# Verify duplicate values\n",
    "print('Total number of duplicate values =', df.duplicated().sum())"
   ]
  },
  {
   "cell_type": "markdown",
   "metadata": {},
   "source": [
    "Our data has been corrected and is now ready for processing."
   ]
  },
  {
   "cell_type": "markdown",
   "metadata": {},
   "source": [
    "## Model Training"
   ]
  },
  {
   "cell_type": "markdown",
   "metadata": {},
   "source": [
    "### Hyperparameter Tuning"
   ]
  },
  {
   "cell_type": "code",
   "execution_count": 9,
   "metadata": {},
   "outputs": [],
   "source": [
    "# Exclude irrelevant columns\n",
    "df = df.drop(['date_crawled', 'date_created', 'lastseen', 'registration_month', 'number_of_pictures', 'postcode'], axis=1)\n",
    "\n",
    "# Convert categorical columns into dummy variables (One-Hot Encoding)\n",
    "X = df.drop('price', axis=1)  # 'price' is the target variable\n",
    "y = df['price']\n",
    "\n",
    "# Apply OHE to categorical columns\n",
    "X_encoded = pd.get_dummies(X, drop_first=True)\n",
    "\n",
    "# Split the data into training and validation sets\n",
    "X_train, X_val, y_train, y_val = train_test_split(X_encoded, y, test_size=0.2, random_state=42)\n"
   ]
  },
  {
   "cell_type": "markdown",
   "metadata": {},
   "source": [
    "### Linear Regression"
   ]
  },
  {
   "cell_type": "code",
   "execution_count": 10,
   "metadata": {},
   "outputs": [
    {
     "name": "stdout",
     "output_type": "stream",
     "text": [
      "Training time: 8.428355932235718 seconds\n",
      "RMSE: 3187.8423893330164\n"
     ]
    }
   ],
   "source": [
    "# Create the linear regression model\n",
    "model = LinearRegression()\n",
    "\n",
    "# Measure training time\n",
    "start_train = time.time()\n",
    "model.fit(X_train, y_train)\n",
    "end_train = time.time()\n",
    "\n",
    "# Training time\n",
    "train_time = end_train - start_train\n",
    "print(f\"Training time: {train_time} seconds\")\n",
    "\n",
    "# Measure prediction time\n",
    "start_predict = time.time()\n",
    "y_pred = model.predict(X_val)\n",
    "end_predict = time.time()\n",
    "\n",
    "# Make predictions on the validation set\n",
    "y_pred = model.predict(X_val)\n",
    "\n",
    "# Calculate RMSE manually\n",
    "rmse = np.sqrt(np.mean((y_val - y_pred) ** 2))\n",
    "\n",
    "print(f\"RMSE: {rmse}\")"
   ]
  },
  {
   "cell_type": "markdown",
   "metadata": {},
   "source": [
    "### Decision Tree"
   ]
  },
  {
   "cell_type": "code",
   "execution_count": 11,
   "metadata": {},
   "outputs": [
    {
     "name": "stdout",
     "output_type": "stream",
     "text": [
      "Training time: 10.817238569259644 seconds\n",
      "Prediction time: 0.12571215629577637 seconds\n",
      "RMSE: 2081.4097691055617\n"
     ]
    }
   ],
   "source": [
    "# Create the Decision Tree model\n",
    "model = DecisionTreeRegressor(random_state=42)\n",
    "\n",
    "# Train the model\n",
    "model.fit(X_train, y_train)\n",
    "\n",
    "# Measure training time\n",
    "start_train = time.time()\n",
    "model.fit(X_train, y_train)\n",
    "end_train = time.time()\n",
    "\n",
    "# Training time\n",
    "train_time = end_train - start_train\n",
    "print(f\"Training time: {train_time} seconds\")\n",
    "\n",
    "# Measure prediction time\n",
    "start_predict = time.time()\n",
    "y_pred = model.predict(X_val)\n",
    "end_predict = time.time()\n",
    "\n",
    "# Prediction time\n",
    "predict_time = end_predict - start_predict\n",
    "print(f\"Prediction time: {predict_time} seconds\")\n",
    "\n",
    "# Make predictions on the validation set\n",
    "y_pred = model.predict(X_val)\n",
    "\n",
    "# Calculate RMSE\n",
    "rmse = np.sqrt(mean_squared_error(y_val, y_pred))\n",
    "print(\"RMSE:\", rmse)\n"
   ]
  },
  {
   "cell_type": "markdown",
   "metadata": {},
   "source": [
    "### Boosted Decision Tree (Gradient Boosting)"
   ]
  },
  {
   "cell_type": "code",
   "execution_count": 12,
   "metadata": {},
   "outputs": [
    {
     "name": "stdout",
     "output_type": "stream",
     "text": [
      "Training time: 166.36652326583862 seconds\n",
      "Prediction time: 0.41561055183410645 seconds\n",
      "RMSE: 2067.2720644200763\n"
     ]
    }
   ],
   "source": [
    "# Create the Gradient Boosting model\n",
    "model = GradientBoostingRegressor(random_state=42)\n",
    "\n",
    "# Measure training time\n",
    "start_train = time.time()\n",
    "model.fit(X_train, y_train)\n",
    "end_train = time.time()\n",
    "\n",
    "# Training time\n",
    "train_time = end_train - start_train\n",
    "print(f\"Training time: {train_time} seconds\")\n",
    "\n",
    "# Measure prediction time\n",
    "start_predict = time.time()\n",
    "y_pred = model.predict(X_val)\n",
    "end_predict = time.time()\n",
    "\n",
    "# Prediction time\n",
    "predict_time = end_predict - start_predict\n",
    "print(f\"Prediction time: {predict_time} seconds\")\n",
    "\n",
    "# Calculate RMSE\n",
    "rmse = np.sqrt(mean_squared_error(y_val, y_pred))\n",
    "print(f\"RMSE: {rmse}\")"
   ]
  },
  {
   "cell_type": "markdown",
   "metadata": {},
   "source": [
    "### CatBoost"
   ]
  },
  {
   "cell_type": "code",
   "execution_count": 13,
   "metadata": {},
   "outputs": [
    {
     "name": "stdout",
     "output_type": "stream",
     "text": [
      "0:\tlearn: 4238.8198947\ttest: 4238.6117021\tbest: 4238.6117021 (0)\ttotal: 166ms\tremaining: 2m 46s\n",
      "100:\tlearn: 1961.2207816\ttest: 1972.6055926\tbest: 1972.6055926 (100)\ttotal: 2.55s\tremaining: 22.7s\n",
      "200:\tlearn: 1872.8541664\ttest: 1888.8926982\tbest: 1888.8926982 (200)\ttotal: 4.82s\tremaining: 19.2s\n",
      "300:\tlearn: 1827.1184337\ttest: 1848.6293692\tbest: 1848.6293692 (300)\ttotal: 7.14s\tremaining: 16.6s\n",
      "400:\tlearn: 1798.2636534\ttest: 1825.3441473\tbest: 1825.3441473 (400)\ttotal: 9.48s\tremaining: 14.2s\n",
      "500:\tlearn: 1774.7634790\ttest: 1806.4918783\tbest: 1806.4918783 (500)\ttotal: 11.6s\tremaining: 11.6s\n",
      "600:\tlearn: 1755.8400097\ttest: 1792.8463683\tbest: 1792.8463683 (600)\ttotal: 13.7s\tremaining: 9.12s\n",
      "700:\tlearn: 1739.7824686\ttest: 1781.8195460\tbest: 1781.8195460 (700)\ttotal: 15.9s\tremaining: 6.78s\n",
      "800:\tlearn: 1725.4068219\ttest: 1772.3808289\tbest: 1772.3808289 (800)\ttotal: 18s\tremaining: 4.48s\n",
      "900:\tlearn: 1713.1088681\ttest: 1764.9020891\tbest: 1764.9020891 (900)\ttotal: 20.2s\tremaining: 2.22s\n",
      "999:\tlearn: 1702.3765721\ttest: 1758.5074578\tbest: 1758.5074578 (999)\ttotal: 22.3s\tremaining: 0us\n",
      "\n",
      "bestTest = 1758.507458\n",
      "bestIteration = 999\n",
      "\n",
      "Training time: 23.30298399925232 seconds\n",
      "Prediction time: 0.07499980926513672 seconds\n",
      "RMSE: 1758.5074578331269\n"
     ]
    }
   ],
   "source": [
    "# One-Hot Encoding was executed previously, no need to specify categorical features\n",
    "model = CatBoostRegressor(iterations=1000,    # Number of iterations\n",
    "                          learning_rate=0.1,  # Learning rate\n",
    "                          depth=6,            # Tree depth\n",
    "                          verbose=100)        # Display every 100 iterations\n",
    "\n",
    "# Measure training time\n",
    "start_train = time.time()\n",
    "model.fit(X_train, y_train, eval_set=(X_val, y_val), early_stopping_rounds=50)\n",
    "end_train = time.time()\n",
    "\n",
    "# Training time\n",
    "train_time = end_train - start_train\n",
    "print(f\"Training time: {train_time} seconds\")\n",
    "\n",
    "# Measure prediction time\n",
    "start_predict = time.time()\n",
    "y_pred = model.predict(X_val)\n",
    "end_predict = time.time()\n",
    "\n",
    "# Prediction time\n",
    "predict_time = end_predict - start_predict\n",
    "print(f\"Prediction time: {predict_time} seconds\")\n",
    "\n",
    "# Calculate RMSE\n",
    "rmse = np.sqrt(np.mean((y_val - y_pred) ** 2))\n",
    "print(f\"RMSE: {rmse}\")"
   ]
  },
  {
   "cell_type": "markdown",
   "metadata": {},
   "source": [
    "## Conclusion\n",
    "\n",
    "During the training of our models, the conventional ML methods did not yield the expected results, especially linear regression, which turned out to be the least suitable among the methods studied. The decision tree model showed a significant improvement, but when applying boosting, the result was not as expected, although there was some improvement. The CatBoost method proved to be the most suitable for our case, due to its improvement in efficiency and the brevity of its operation."
   ]
  }
 ],
 "metadata": {
  "ExecuteTimeLog": [
   {
    "duration": 1950,
    "start_time": "2024-10-18T04:42:42.330Z"
   },
   {
    "duration": 1045,
    "start_time": "2024-10-18T04:42:44.283Z"
   },
   {
    "duration": 450,
    "start_time": "2024-10-18T04:42:45.330Z"
   },
   {
    "duration": 40,
    "start_time": "2024-10-18T04:42:45.782Z"
   },
   {
    "duration": 13,
    "start_time": "2024-10-18T04:42:45.825Z"
   },
   {
    "duration": 155,
    "start_time": "2024-10-18T04:42:45.839Z"
   },
   {
    "duration": 625,
    "start_time": "2024-10-18T04:42:45.996Z"
   },
   {
    "duration": 955,
    "start_time": "2024-10-18T04:42:46.623Z"
   },
   {
    "duration": 10932,
    "start_time": "2024-10-18T04:42:47.581Z"
   },
   {
    "duration": 6001,
    "start_time": "2024-10-18T04:42:58.515Z"
   },
   {
    "duration": 0,
    "start_time": "2024-10-18T04:43:04.518Z"
   },
   {
    "duration": 0,
    "start_time": "2024-10-18T04:43:04.519Z"
   },
   {
    "duration": 2677,
    "start_time": "2024-10-18T22:14:55.160Z"
   },
   {
    "duration": 4,
    "start_time": "2024-10-18T22:15:59.539Z"
   },
   {
    "duration": 591,
    "start_time": "2024-10-18T22:15:59.545Z"
   },
   {
    "duration": 0,
    "start_time": "2024-10-18T22:16:00.138Z"
   },
   {
    "duration": 0,
    "start_time": "2024-10-18T22:16:00.140Z"
   },
   {
    "duration": 0,
    "start_time": "2024-10-18T22:16:00.141Z"
   },
   {
    "duration": 0,
    "start_time": "2024-10-18T22:16:00.142Z"
   },
   {
    "duration": 0,
    "start_time": "2024-10-18T22:16:00.144Z"
   },
   {
    "duration": 0,
    "start_time": "2024-10-18T22:16:00.145Z"
   },
   {
    "duration": 0,
    "start_time": "2024-10-18T22:16:00.146Z"
   },
   {
    "duration": 0,
    "start_time": "2024-10-18T22:16:00.148Z"
   },
   {
    "duration": 0,
    "start_time": "2024-10-18T22:16:00.150Z"
   },
   {
    "duration": 58,
    "start_time": "2024-10-18T22:16:10.656Z"
   },
   {
    "duration": 465,
    "start_time": "2024-10-18T22:16:47.509Z"
   },
   {
    "duration": 29,
    "start_time": "2024-10-18T22:16:50.127Z"
   },
   {
    "duration": 12,
    "start_time": "2024-10-18T22:16:54.072Z"
   },
   {
    "duration": 154,
    "start_time": "2024-10-18T22:16:57.239Z"
   },
   {
    "duration": 623,
    "start_time": "2024-10-18T22:17:02.438Z"
   },
   {
    "duration": 866,
    "start_time": "2024-10-18T22:17:08.195Z"
   },
   {
    "duration": 10933,
    "start_time": "2024-10-18T22:18:46.541Z"
   },
   {
    "duration": 11733,
    "start_time": "2024-10-18T22:23:04.191Z"
   },
   {
    "duration": 88286,
    "start_time": "2024-10-18T22:27:29.396Z"
   },
   {
    "duration": 28759,
    "start_time": "2024-10-18T22:31:24.572Z"
   },
   {
    "duration": 1876,
    "start_time": "2024-10-19T04:30:29.760Z"
   },
   {
    "duration": 2703,
    "start_time": "2024-10-19T04:30:31.638Z"
   },
   {
    "duration": 466,
    "start_time": "2024-10-19T04:30:34.343Z"
   },
   {
    "duration": 35,
    "start_time": "2024-10-19T04:30:34.811Z"
   },
   {
    "duration": 13,
    "start_time": "2024-10-19T04:30:34.847Z"
   },
   {
    "duration": 162,
    "start_time": "2024-10-19T04:30:34.862Z"
   },
   {
    "duration": 605,
    "start_time": "2024-10-19T04:30:35.025Z"
   },
   {
    "duration": 874,
    "start_time": "2024-10-19T04:30:35.632Z"
   },
   {
    "duration": 10348,
    "start_time": "2024-10-19T04:30:36.508Z"
   },
   {
    "duration": 11142,
    "start_time": "2024-10-19T04:30:46.858Z"
   },
   {
    "duration": 85320,
    "start_time": "2024-10-19T04:30:58.002Z"
   },
   {
    "duration": 28232,
    "start_time": "2024-10-19T04:32:23.323Z"
   }
  ],
  "kernelspec": {
   "display_name": "entorno",
   "language": "python",
   "name": "python3"
  },
  "language_info": {
   "codemirror_mode": {
    "name": "ipython",
    "version": 3
   },
   "file_extension": ".py",
   "mimetype": "text/x-python",
   "name": "python",
   "nbconvert_exporter": "python",
   "pygments_lexer": "ipython3",
   "version": "3.12.4"
  },
  "toc": {
   "base_numbering": 1,
   "nav_menu": {},
   "number_sections": true,
   "sideBar": true,
   "skip_h1_title": true,
   "title_cell": "Table of Contents",
   "title_sidebar": "Contents",
   "toc_cell": false,
   "toc_position": {},
   "toc_section_display": true,
   "toc_window_display": false
  }
 },
 "nbformat": 4,
 "nbformat_minor": 2
}
